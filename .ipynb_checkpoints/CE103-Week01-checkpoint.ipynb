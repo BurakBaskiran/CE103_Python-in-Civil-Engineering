{
 "cells": [
  {
   "cell_type": "markdown",
   "metadata": {},
   "source": [
    "### CE103- INTRODUCTION TO COMPUTERS & PROGRAMMING"
   ]
  },
  {
   "cell_type": "markdown",
   "metadata": {},
   "source": [
    "This week:\n",
    "- Launching Python, Variable, List\n",
    "\n",
    "- Create an algorithm\n",
    "\n",
    "- Application > Interactive Python as a Calculater"
   ]
  },
  {
   "cell_type": "markdown",
   "metadata": {},
   "source": [
    "## Introduction to Python\n",
    "\n",
    "Python is a open source general-purpose programming language. It is available across many platforms including Windows, Linux and Mac OS.\n",
    "\n",
    "The history of the Python programming language dates back to the late 1980s and its implementation was started in December 1989 by Guido van Rossum. \n",
    "\n",
    "The version of Python (i.e., Python 1.0) was introduced in 1991 and its eveluation has reached up to Version 3.x (till 2019).\n",
    "\n",
    "![](./Figures/guido.png)\n",
    "Figure 1 : Photograph of Guido van Rossum—Creator. (Image courtesy of Wikipedia.org)."
   ]
  },
  {
   "cell_type": "markdown",
   "metadata": {},
   "source": [
    "---\n",
    "## Scientific Tools of Python\n",
    "\n",
    "The Python ecosystem consists of these core scientific tools which are essential for analysing and simulating complex systems, these packages are SciPy library,SciPy, NumPy, Sympy and Matplotlib. **SciPy** library is mainly used for numerical integration and optimization. **NumPy** provides N-dimensional array objects which can be used to perform linear algebra, Fourier transform and other mathematical operations. **SymPy** library is used to generate symbolic mathematics. **Matplotlib** is the oldest and most popular plotting library available for Python. These tools are usefull for solving scientific problems.\n"
   ]
  },
  {
   "cell_type": "markdown",
   "metadata": {},
   "source": [
    "---\n",
    "## Launching Python \n",
    "\n"
   ]
  },
  {
   "cell_type": "markdown",
   "metadata": {},
   "source": [
    "There are several interfaces that allows us to use Python interactively. IPython, jupyter notebooks, anaconda spyder are some of them. But in this lecture we will use notebook.azure.com.\n",
    "\n",
    "You do not have to install Python on to your computer, all you need is internet accesss. "
   ]
  },
  {
   "cell_type": "markdown",
   "metadata": {},
   "source": [
    "---\n",
    "## Installing and Using Jupyter Notebook\n",
    "Jupyter Notebook is an open source web application that uses a browserbased interface and it is one of the many possible ways to interact with Python and the scientific libraries. \n",
    "\n",
    "You can :\n",
    "\n",
    "• create and share documents,\n",
    "\n",
    "• write and execute Python code,\n",
    "\n",
    "• include tables, figures, equation, visualizations, etc.\n",
    "\n",
    "with Jupyter which is fast processor in the scientific computing algorithms."
   ]
  },
  {
   "cell_type": "markdown",
   "metadata": {},
   "source": [
    "---\n",
    "## Python Programming Fundamentals\n",
    "\n",
    "Lets discuss the fundamentals of Python Programming language that we need to know to start writing basic Python codes. These are identifiers, keywords, variables and operators.\n",
    "\n",
    "### Identifiers\n",
    "An identifier is a name given to a variable, function, class or module. Here are the rules that we should know to set an identifier.\n",
    "\n",
    "• Can begin with an alphabet (A – Z and a – z and _) and be a combination of lowercase or uppercase or digits.\n",
    "\n",
    "• Do not start with a digit but can used in anywhere else such as legend1 can allow but 1legend is invalid.\n",
    "\n",
    "• Keywords cannot be used as identifiers.\n",
    "\n",
    "• Do not use spaces and special symbols like !, @, #, $, % etc. as identifiers.\n",
    "\n",
    "• Identifier can be of any length.\n",
    "\n",
    "### Keywords\n",
    "\n",
    "Keywords are a list of reserved words that have predefined meaning. Keywords are special vocabulary and cannot be used by programmers as identifiers for variables, functions, constants or with any identifier name. Attempting to use a keyword as an identifier name will cause an error.\n",
    "\n",
    "![](./Figures/keywords.png)\n",
    "\n",
    "### Variables\n",
    "\n",
    "Variable is a named placeholder to hold any type of data which the program can use to assign and modify during the course of execution. In Python, there is no need to declare a variable explicitly by specifying whether the variable is an integer or a float or any other\n",
    "type. To define a new variable in Python, we simply assign a value to a name.\n",
    "\n",
    "• Variable names can consist of any number of letters, underscores and digits.\n",
    "\n",
    "• Variable should not start with a number.\n",
    "\n",
    "• Python Keywords are not allowed as variable names.\n",
    "\n",
    "• Variable names are case-sensitive. For example, computer and Computer are different variables.\n",
    "\n",
    "***variable_name = expression***\n"
   ]
  },
  {
   "cell_type": "code",
   "execution_count": 20,
   "metadata": {},
   "outputs": [
    {
     "data": {
      "text/plain": [
       "(3, 'D100', 'Python', 'hundred')"
      ]
     },
     "execution_count": 20,
     "metadata": {},
     "output_type": "execute_result"
    }
   ],
   "source": [
    "# set a variable name\n",
    "number = 3\n",
    "road = \"D100\"\n",
    "name = 'Python'\n",
    "century = \"hundred\"\n",
    "\n",
    "# print them on to the screen\n",
    "number, road, name, century"
   ]
  },
  {
   "cell_type": "markdown",
   "metadata": {},
   "source": [
    "Python allows you to assign a single value to several variables simultaneously."
   ]
  },
  {
   "cell_type": "code",
   "execution_count": 22,
   "metadata": {},
   "outputs": [
    {
     "data": {
      "text/plain": [
       "(4, 4, 4)"
      ]
     },
     "execution_count": 22,
     "metadata": {},
     "output_type": "execute_result"
    }
   ],
   "source": [
    "a = b = c = 4\n",
    "a, b, c"
   ]
  },
  {
   "cell_type": "markdown",
   "metadata": {},
   "source": [
    "---\n",
    "### Operators\n",
    "\n",
    "Operators are symbols, such as +, –, =, >, and <, that perform certain mathematical or logical operation to manipulate data values and produce a result based on some rules. An operator manipulates the data values called operands.\n",
    "\n",
    "Consider the expression,\n",
    "\n",
    "***4 + 6***\n",
    "\n",
    "where 4 and 6 are operands and + is the operator.\n",
    "\n",
    "Python language supports a wide range of operators. They are\n",
    "\n",
    "#### 1. Arithmetic Operators\n",
    "\n",
    "\n",
    "Arithmetic operators are used to execute arithmetic operations such as addition, subtraction, division, multiplication etc.\n",
    "\n",
    "![](./Figures/arithmetic-operators.png) "
   ]
  },
  {
   "cell_type": "code",
   "execution_count": 23,
   "metadata": {},
   "outputs": [
    {
     "data": {
      "text/plain": [
       "9"
      ]
     },
     "execution_count": 23,
     "metadata": {},
     "output_type": "execute_result"
    }
   ],
   "source": [
    " 4 + 5"
   ]
  },
  {
   "cell_type": "code",
   "execution_count": null,
   "metadata": {},
   "outputs": [],
   "source": [
    "a = 3\n",
    "b = 5 \n",
    "c = 7\n",
    "\n",
    "a + b * c"
   ]
  },
  {
   "cell_type": "code",
   "execution_count": 34,
   "metadata": {},
   "outputs": [
    {
     "data": {
      "text/plain": [
       "(256, 7.0, 36.0)"
      ]
     },
     "execution_count": 34,
     "metadata": {},
     "output_type": "execute_result"
    }
   ],
   "source": [
    "# find answer of the equations below\n",
    "\n",
    "apple = a ** b\n",
    "orange = a / b * c + 3\n",
    "d = apple // orange\n",
    "\n",
    "apple, orange, d"
   ]
  },
  {
   "cell_type": "code",
   "execution_count": 35,
   "metadata": {},
   "outputs": [],
   "source": [
    "# find the remainder of the \"apple/orange\"\n",
    "\n"
   ]
  },
  {
   "cell_type": "code",
   "execution_count": null,
   "metadata": {},
   "outputs": [],
   "source": []
  },
  {
   "cell_type": "code",
   "execution_count": null,
   "metadata": {},
   "outputs": [],
   "source": []
  },
  {
   "cell_type": "markdown",
   "metadata": {},
   "source": [
    "#### 2. Assignment Operators\n",
    "\n",
    "3. Comparison Operators\n",
    "4. Logical Operators\n",
    "5. Bitwise Operators"
   ]
  },
  {
   "cell_type": "markdown",
   "metadata": {},
   "source": [
    "## Programming Algorith"
   ]
  },
  {
   "cell_type": "code",
   "execution_count": null,
   "metadata": {},
   "outputs": [],
   "source": [
    "## "
   ]
  },
  {
   "cell_type": "markdown",
   "metadata": {},
   "source": [
    "## Interactive Python as a Calculator"
   ]
  },
  {
   "cell_type": "code",
   "execution_count": null,
   "metadata": {},
   "outputs": [],
   "source": []
  },
  {
   "cell_type": "code",
   "execution_count": null,
   "metadata": {},
   "outputs": [],
   "source": []
  }
 ],
 "metadata": {
  "kernelspec": {
   "display_name": "Python 3",
   "language": "python",
   "name": "python3"
  },
  "language_info": {
   "codemirror_mode": {
    "name": "ipython",
    "version": 3
   },
   "file_extension": ".py",
   "mimetype": "text/x-python",
   "name": "python",
   "nbconvert_exporter": "python",
   "pygments_lexer": "ipython3",
   "version": "3.6.8"
  }
 },
 "nbformat": 4,
 "nbformat_minor": 4
}
