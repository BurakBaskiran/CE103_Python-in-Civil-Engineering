{
 "cells": [
  {
   "cell_type": "markdown",
   "metadata": {},
   "source": [
    "### CE103- INTRODUCTION TO COMPUTERS & PROGRAMMING"
   ]
  },
  {
   "cell_type": "markdown",
   "metadata": {},
   "source": [
    "This week:\n",
    "- Launching Python, Variable, List\n",
    "\n",
    "- Create an algorithm\n",
    "\n",
    "- Application > Interactive Python as a Calculater"
   ]
  },
  {
   "cell_type": "markdown",
   "metadata": {},
   "source": [
    "## Introduction to Python\n",
    "\n",
    "Python is a free general-purpose programming language with beautiful syntax. It is available across many platforms including Windows, Linux and Mac OS.\n",
    "\n",
    "The history of the Python programming language dates back to the late 1980s. Python was conceived in the late 1980s and its implementation was started in December 1989 by Guido van Rossum. \n",
    "\n",
    "The first ever version of Python (i.e., Python 1.0) was introduced in 1991. Since its inception and introduction of Version 1, the evolution of Python has reached up to Version 3.x (till 2018).\n",
    "\n",
    "<img src=\"./Figures/guido.png\" width=50%>\n",
    "Figure 1 : Photograph of Guido van Rossum—Creator and BDFL of Python Programming Language. (Image courtesy of Wikipedia.org)."
   ]
  },
  {
   "cell_type": "markdown",
   "metadata": {},
   "source": [
    "---\n",
    "## Scientific Tools of Python\n",
    "Scientific tools are essential for simulating and analyzing complex systems. The Python ecosystem consists of these core scientific  packages, namely SciPy library, NumPy, Jupyter, Sympy and Matplotlib. Most of these tools are available under Berkeley Software Distribution (BSD) license and can be used without any restrictions. **SciPy** library is mainly used for numerical integration and optimization. **NumPy** provides N-dimensional array objects which can be used to perform linear algebra, Fourier transform and other mathematical operations. **Jupyter** has revolutionized the way programming is done in Python. Jupyter provides an interactive web-based interface which can be invoked from a browser. Jupyter is used to write Python programs and create embeddable plots to visualize data. **SymPy** library is used to generate symbolic mathematics. **Matplotlib** is the oldest and most popular plotting library available for Python. With these tools, we have better chances of solving scientific problems and create working prototypes more quickly than any other competing tools.\n"
   ]
  },
  {
   "cell_type": "markdown",
   "metadata": {},
   "source": [
    "---\n",
    "## Installing Anaconda Python Distribution\n",
    "Anaconda is a free and open source distribution of the Python programming language for data science and machine-learning related applications such as large-scale data processing, predictive analytics, and scientific computing, that aims to simplify package management and deployment. Package versions are managed by the package management system conda, which makes it quite simple to install, run, and update complex data science and machine learning software libraries.\n"
   ]
  },
  {
   "cell_type": "markdown",
   "metadata": {},
   "source": [
    "---\n",
    "## Installing and Using Jupyter Notebook\n",
    "Jupyter Notebook is one of the many possible ways to interact with Python and the scientific libraries. Jupyter Notebook is an open source web application that uses a browserbased interface to Python with\n",
    "\n",
    "• The choice to create and share documents.\n",
    "\n",
    "• The ability to write and execute Python code.\n",
    "\n",
    "• Formatted output in the browser, including tables, figures, equation, visualizations, etc.\n",
    "\n",
    "• The option to mix in formatted text and mathematical expressions.\n",
    "\n",
    "Because of these possibilities, Jupyter is fast turning into a major player in the scientific computing ecosystem."
   ]
  },
  {
   "cell_type": "markdown",
   "metadata": {},
   "source": [
    "---\n",
    "## Launching Python \n",
    "\n"
   ]
  },
  {
   "cell_type": "markdown",
   "metadata": {},
   "source": [
    "There are several interfaces that allows us to use Python interactively. IPython, jupyter notebooks, anaconda spyder are some of them. But in this lecture we will use notebook.azure.com.\n",
    "\n",
    "You do not have to install Python on to your computer, all you need is internet accesss. "
   ]
  },
  {
   "cell_type": "markdown",
   "metadata": {},
   "source": [
    "---\n",
    "## Python Programming Fundamentals\n",
    "\n",
    "Lets discuss the fundamentals of Python Programming language which\n",
    "you need to know before writing simple Python programs and learn how\n",
    "Python programs should work at the most basic level and gives details about operators, types and keywords upon which complex solutions can be built. Once you gain familiarity with these foundational elements of Python programming language, then you will appreciate how a lot of functionality can be accomplished with less verbose code.\n",
    "\n",
    "#### Identifiers\n",
    "An identifier is a name given to a variable, function, class or module. Identifiers may be one or more characters in the following format:\n",
    "\n",
    "• Identifiers can be a combination of letters in lowercase (a to z) or uppercase (A to Z) or digits (0 to 9) or an underscore (_). Names like myCountry, other_1 and good_morning, all are valid examples. A Python identifier can begin with an alphabet (A – Z and a – z and _).\n",
    "\n",
    "• An identifier cannot start with a digit but is allowed everywhere else. 1plus is invalid, but plus1 is perfectly fine.\n",
    "\n",
    "• Keywords cannot be used as identifiers.\n",
    "\n",
    "• One cannot use spaces and special symbols like !, @, #, $, % etc. as identifiers.\n",
    "\n",
    "• Identifier can be of any length.\n",
    "\n",
    "#### Keywords\n",
    "\n",
    "Keywords are a list of reserved words that have predefined meaning. Keywords are special vocabulary and cannot be used by programmers as identifiers for variables, functions, constants or with any identifier name. Attempting to use a keyword as an identifier name will cause an error.\n",
    "\n",
    "<img src=\"./Figures/keywords.png\" width=30%>\n",
    "\n",
    "#### Variables\n",
    "\n",
    "Variable is a named placeholder to hold any type of data which the program can use to assign and modify during the course of execution. In Python, there is no need to declare a variable explicitly by specifying whether the variable is an integer or a float or any other\n",
    "type. To define a new variable in Python, we simply assign a value to a name.\n",
    "\n",
    "• Variable names can consist of any number of letters, underscores and digits.\n",
    "\n",
    "• Variable should not start with a number.\n",
    "\n",
    "• Python Keywords are not allowed as variable names.\n",
    "\n",
    "• Variable names are case-sensitive. For example, computer and Computer are different variables.\n",
    "\n",
    "***variable_name = expression***\n",
    "\n",
    "---\n"
   ]
  },
  {
   "cell_type": "markdown",
   "metadata": {},
   "source": []
  },
  {
   "cell_type": "code",
   "execution_count": 20,
   "metadata": {},
   "outputs": [
    {
     "data": {
      "text/plain": [
       "(3, 'D100', 'Python', 'hundred')"
      ]
     },
     "execution_count": 20,
     "metadata": {},
     "output_type": "execute_result"
    }
   ],
   "source": [
    "# set a variable name\n",
    "number = 3\n",
    "road = \"D100\"\n",
    "name = 'Python'\n",
    "century = \"hundred\"\n",
    "\n",
    "# print them on to the screen\n",
    "number, road, name, century"
   ]
  },
  {
   "cell_type": "markdown",
   "metadata": {},
   "source": [
    "Python allows you to assign a single value to several variables simultaneously."
   ]
  },
  {
   "cell_type": "code",
   "execution_count": 22,
   "metadata": {},
   "outputs": [
    {
     "data": {
      "text/plain": [
       "(4, 4, 4)"
      ]
     },
     "execution_count": 22,
     "metadata": {},
     "output_type": "execute_result"
    }
   ],
   "source": [
    "a = b = c = 4\n",
    "a, b, c"
   ]
  },
  {
   "cell_type": "markdown",
   "metadata": {},
   "source": [
    "---\n",
    "#### Operators\n",
    "\n",
    "Operators are symbols, such as +, –, =, >, and <, that perform certain mathematical or logical operation to manipulate data values and produce a result based on some rules. An operator manipulates the data values called operands.\n",
    "\n",
    "Consider the expression,\n",
    "\n",
    "***4 + 6***\n",
    "\n",
    "where 4 and 6 are operands and + is the operator.\n",
    "\n",
    "Python language supports a wide range of operators. They are\n",
    "\n",
    "1. Arithmetic Operators\n",
    "\n",
    "\n",
    "Arithmetic operators are used to execute arithmetic operations such as addition, subtraction, division, multiplication etc.\n",
    "\n",
    "<img src=\"./Figures/arithmetic-operators.png\" width=80%>\n",
    "\n",
    "![](./Figures/arithmetic-operators.png) \n",
    "\n",
    "2. Assignment Operators\n",
    "3. Comparison Operators\n",
    "4. Logical Operators\n",
    "5. Bitwise Operators\n",
    "\n",
    "\n"
   ]
  },
  {
   "cell_type": "code",
   "execution_count": null,
   "metadata": {},
   "outputs": [],
   "source": []
  },
  {
   "cell_type": "markdown",
   "metadata": {},
   "source": [
    "## Programming Algorith"
   ]
  },
  {
   "cell_type": "code",
   "execution_count": null,
   "metadata": {},
   "outputs": [],
   "source": [
    "## "
   ]
  },
  {
   "cell_type": "markdown",
   "metadata": {},
   "source": [
    "## Interactive Python as a Calculator"
   ]
  },
  {
   "cell_type": "code",
   "execution_count": null,
   "metadata": {},
   "outputs": [],
   "source": []
  },
  {
   "cell_type": "code",
   "execution_count": null,
   "metadata": {},
   "outputs": [],
   "source": []
  }
 ],
 "metadata": {
  "kernelspec": {
   "display_name": "Python 3",
   "language": "python",
   "name": "python3"
  },
  "language_info": {
   "codemirror_mode": {
    "name": "ipython",
    "version": 3
   },
   "file_extension": ".py",
   "mimetype": "text/x-python",
   "name": "python",
   "nbconvert_exporter": "python",
   "pygments_lexer": "ipython3",
   "version": "3.6.8"
  }
 },
 "nbformat": 4,
 "nbformat_minor": 4
}
